{
 "cells": [
  {
   "cell_type": "code",
   "execution_count": 1,
   "metadata": {},
   "outputs": [],
   "source": [
    "import pandas as pd\n",
    "import requests\n",
    "\n",
    "train_url = \"https://raw.githubusercontent.com/khairunnisaor/idner-news-2k/main/train.txt\"\n",
    "test_url = \"https://raw.githubusercontent.com/khairunnisaor/idner-news-2k/main/test.txt\"\n",
    "dev_url = \"https://raw.githubusercontent.com/khairunnisaor/idner-news-2k/main/dev.txt\"\n",
    "\n",
    "# read txt\n",
    "train = requests.get(train_url).text\n",
    "test = requests.get(test_url).text\n",
    "dev = requests.get(dev_url).text"
   ]
  },
  {
   "cell_type": "code",
   "execution_count": 2,
   "metadata": {},
   "outputs": [],
   "source": [
    "train = train.replace(\"\\r\",\"\").split(\"\\n\\n\")\n",
    "test = test.replace(\"\\r\",\"\").split(\"\\n\\n\")\n",
    "dev = dev.replace(\"\\r\",\"\").split(\"\\n\\n\")"
   ]
  },
  {
   "cell_type": "code",
   "execution_count": 3,
   "metadata": {},
   "outputs": [],
   "source": [
    "train = [[el.split() for el in sen.split('\\n')] for sen in train]\n",
    "test = [[el.split() for el in sen.split('\\n')] for sen in test]\n",
    "dev = [[el.split() for el in sen.split('\\n')] for sen in dev]"
   ]
  },
  {
   "cell_type": "code",
   "execution_count": 4,
   "metadata": {},
   "outputs": [],
   "source": [
    "train = [[el for el in sen if len(el) > 0] for sen in train]\n",
    "test = [[el for el in sen if len(el) > 0] for sen in test]\n",
    "dev = [[el for el in sen if len(el) > 0] for sen in dev]"
   ]
  },
  {
   "cell_type": "code",
   "execution_count": 6,
   "metadata": {},
   "outputs": [],
   "source": [
    "train = [[[el[0],el[2]] for el in sen] for sen in train]\n",
    "test = [[[el[0],el[2]] for el in sen] for sen in test]\n",
    "dev = [[[el[0],el[2]] for el in sen] for sen in dev]"
   ]
  },
  {
   "cell_type": "code",
   "execution_count": 7,
   "metadata": {},
   "outputs": [
    {
     "data": {
      "text/plain": [
       "[['Berikut', 'O'],\n",
       " ['adalah', 'O'],\n",
       " ['tujuh', 'O'],\n",
       " ['kota', 'O'],\n",
       " ['di', 'O'],\n",
       " ['Indonesia', 'B-LOC'],\n",
       " ['yang', 'O'],\n",
       " ['dianggap', 'O'],\n",
       " ['paling', 'O'],\n",
       " ['nyaman', 'O'],\n",
       " ['untuk', 'O'],\n",
       " ['ditinggali', 'O'],\n",
       " [':', 'O']]"
      ]
     },
     "execution_count": 7,
     "metadata": {},
     "output_type": "execute_result"
    }
   ],
   "source": [
    "train[0]"
   ]
  },
  {
   "cell_type": "code",
   "execution_count": 10,
   "metadata": {},
   "outputs": [
    {
     "data": {
      "text/plain": [
       "['sampai', 'nanti']"
      ]
     },
     "execution_count": 10,
     "metadata": {},
     "output_type": "execute_result"
    }
   ],
   "source": [
    "from nlp_id.tokenizer import Tokenizer\n",
    "tokenizer = Tokenizer()\n",
    "\n",
    "tokenizer.tokenize('sampai nanti')"
   ]
  },
  {
   "cell_type": "code",
   "execution_count": 11,
   "metadata": {},
   "outputs": [],
   "source": [
    "combine = train + test + dev"
   ]
  },
  {
   "cell_type": "code",
   "execution_count": 19,
   "metadata": {},
   "outputs": [],
   "source": [
    "# new_combine = []\n",
    "# for sen in combine:\n",
    "#     new_sen = []\n",
    "#     for word,tag in sen:\n",
    "#         tokenized_word = tokenizer.tokenize(word)\n",
    "#         for token in tokenized_word:\n",
    "#             new_sen.append([token,tag])\n",
    "#     new_combine.append(new_sen)"
   ]
  },
  {
   "cell_type": "code",
   "execution_count": 20,
   "metadata": {},
   "outputs": [],
   "source": [
    "save_path = \"./interim/data.txt\"\n",
    "\n",
    "with open(save_path, \"w\") as f:\n",
    "    for sen in combine:\n",
    "        for tuple in sen:\n",
    "            token = tuple[0]\n",
    "            tag = tuple[1]\n",
    "\n",
    "            f.write(f\"{token}\\t{tag}\\n\")\n",
    "        f.write(\"\\n\")"
   ]
  },
  {
   "cell_type": "code",
   "execution_count": 21,
   "metadata": {},
   "outputs": [],
   "source": [
    "labels = set()\n",
    "for sen in train + test + dev:\n",
    "    for tuple in sen:\n",
    "        tag = tuple[1]\n",
    "        labels.add(tag)"
   ]
  },
  {
   "cell_type": "code",
   "execution_count": 22,
   "metadata": {},
   "outputs": [
    {
     "data": {
      "text/plain": [
       "{'B-LOC', 'B-ORG', 'B-PER', 'I-LOC', 'I-ORG', 'I-PER', 'O'}"
      ]
     },
     "execution_count": 22,
     "metadata": {},
     "output_type": "execute_result"
    }
   ],
   "source": [
    "labels"
   ]
  },
  {
   "cell_type": "code",
   "execution_count": 23,
   "metadata": {},
   "outputs": [],
   "source": [
    "# write to labels.txt\n",
    "# sort labels\n",
    "labels = sorted(list(labels))\n",
    "with open(\"./interim/labels.txt\", \"w\") as f:\n",
    "    for label in labels:\n",
    "        f.write(f\"{label}\\n\")"
   ]
  },
  {
   "cell_type": "code",
   "execution_count": null,
   "metadata": {},
   "outputs": [],
   "source": []
  }
 ],
 "metadata": {
  "kernelspec": {
   "display_name": "Python 3.9.7 ('base')",
   "language": "python",
   "name": "python3"
  },
  "language_info": {
   "codemirror_mode": {
    "name": "ipython",
    "version": 3
   },
   "file_extension": ".py",
   "mimetype": "text/x-python",
   "name": "python",
   "nbconvert_exporter": "python",
   "pygments_lexer": "ipython3",
   "version": "3.9.7"
  },
  "orig_nbformat": 4,
  "vscode": {
   "interpreter": {
    "hash": "f5045f1ed516028e6ba3c78ae58e34f2955ee8afe7e35fc1835a968676e80520"
   }
  }
 },
 "nbformat": 4,
 "nbformat_minor": 2
}
