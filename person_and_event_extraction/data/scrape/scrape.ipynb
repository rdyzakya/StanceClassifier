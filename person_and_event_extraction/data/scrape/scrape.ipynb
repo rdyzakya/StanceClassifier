{
 "cells": [
  {
   "cell_type": "code",
   "execution_count": 78,
   "metadata": {},
   "outputs": [],
   "source": [
    "import selenium\n",
    "from selenium.webdriver.common.keys import Keys\n",
    "import time\n",
    "from selenium.webdriver.common.by import By\n",
    "from selenium.webdriver.support.wait import WebDriverWait\n",
    "from selenium.webdriver.support import expected_conditions as EC"
   ]
  },
  {
   "cell_type": "code",
   "execution_count": 38,
   "metadata": {},
   "outputs": [],
   "source": [
    "driver_path =\"D:\\\\chromedriver_win32\\\\chromedriver.exe\"\n",
    "\n",
    "def get_url(figure,pages):\n",
    "    result = []\n",
    "    driver = selenium.webdriver.Chrome(driver_path)\n",
    "\n",
    "    web_url = \"https://www.cnnindonesia.com/nasional/politik\"\n",
    "\n",
    "    driver.get(web_url)\n",
    "    search = WebDriverWait(driver, 10).until(EC.presence_of_element_located((By.NAME, \"query\")))\n",
    "    search.send_keys(figure)\n",
    "    search.send_keys(Keys.RETURN)\n",
    "\n",
    "    i = 0\n",
    "    while i < pages:\n",
    "        try:\n",
    "            list_of_news = WebDriverWait(driver, 20).until(\n",
    "                EC.presence_of_element_located((By.CLASS_NAME, \"media_rows\"))\n",
    "            )\n",
    "            \n",
    "            \n",
    "            articles = list_of_news.find_elements_by_tag_name(\"article\")\n",
    "\n",
    "            anchors = [x.find_element_by_tag_name(\"a\") for x in articles]\n",
    "\n",
    "            box_texts = [x.find_element_by_class_name(\"box_text\") for x in articles]\n",
    "            titles = [x.find_element_by_class_name(\"title\") for x in box_texts]\n",
    "            for anchor, title in zip(anchors, titles):\n",
    "                href = anchor.get_attribute(\"href\")\n",
    "                if not title.text.startswith(\"VIDEO\") and not title.text.startswith(\"FOTO\"):\n",
    "                    result.append(href)\n",
    "            i += 1\n",
    "\n",
    "            next_btn = WebDriverWait(driver, 10).until(\n",
    "                EC.presence_of_element_located((By.CLASS_NAME, \"next\"))\n",
    "            )\n",
    "            next_btn.click()\n",
    "        except Exception as e:\n",
    "            print(e)\n",
    "            break\n",
    "    driver.quit()\n",
    "    return result"
   ]
  },
  {
   "cell_type": "code",
   "execution_count": 40,
   "metadata": {},
   "outputs": [],
   "source": [
    "megawati_url = get_url(\"Megawati\",5)"
   ]
  },
  {
   "cell_type": "code",
   "execution_count": 44,
   "metadata": {},
   "outputs": [],
   "source": [
    "anies_url = get_url(\"Anies\",5)"
   ]
  },
  {
   "cell_type": "code",
   "execution_count": 46,
   "metadata": {},
   "outputs": [],
   "source": [
    "luhut_url = get_url(\"Luhut\",5)"
   ]
  },
  {
   "cell_type": "code",
   "execution_count": 49,
   "metadata": {},
   "outputs": [],
   "source": [
    "ganjar_url = get_url(\"Ganjar\",5)"
   ]
  },
  {
   "cell_type": "code",
   "execution_count": 51,
   "metadata": {},
   "outputs": [],
   "source": [
    "erick_thohir_url = get_url(\"Erick Thohir\",5)"
   ]
  },
  {
   "cell_type": "code",
   "execution_count": 54,
   "metadata": {},
   "outputs": [],
   "source": [
    "sandiaga_uno_url = get_url(\"Sandiaga Uno\",5)"
   ]
  },
  {
   "cell_type": "code",
   "execution_count": 56,
   "metadata": {},
   "outputs": [],
   "source": [
    "puan_url = get_url(\"Puan\",5)"
   ]
  },
  {
   "cell_type": "code",
   "execution_count": 62,
   "metadata": {},
   "outputs": [],
   "source": [
    "surya_paloh_url = get_url(\"Surya Paloh\",5)"
   ]
  },
  {
   "cell_type": "code",
   "execution_count": 63,
   "metadata": {},
   "outputs": [],
   "source": [
    "url_data = []\n",
    "for url in megawati_url:\n",
    "    url_data.append({\"person\": \"Megawati\", \"url\": url})\n",
    "for url in anies_url:\n",
    "    url_data.append({\"person\": \"Anies\", \"url\": url})\n",
    "for url in luhut_url:\n",
    "    url_data.append({\"person\": \"Luhut\", \"url\": url})\n",
    "for url in ganjar_url:\n",
    "    url_data.append({\"person\": \"Ganjar\", \"url\": url})\n",
    "for url in erick_thohir_url:\n",
    "    url_data.append({\"person\": \"Erick Thohir\", \"url\": url})\n",
    "for url in sandiaga_uno_url:\n",
    "    url_data.append({\"person\": \"Sandiaga Uno\", \"url\": url})\n",
    "for url in puan_url:\n",
    "    url_data.append({\"person\": \"Puan\", \"url\": url})\n",
    "for url in surya_paloh_url:\n",
    "    url_data.append({\"person\": \"Surya Paloh\", \"url\": url})"
   ]
  },
  {
   "cell_type": "code",
   "execution_count": 65,
   "metadata": {},
   "outputs": [],
   "source": [
    "import pandas as pd\n",
    "url_df = pd.DataFrame(url_data)"
   ]
  },
  {
   "cell_type": "code",
   "execution_count": 67,
   "metadata": {},
   "outputs": [],
   "source": [
    "url_df.to_csv(\"url_data.csv\", index=False)"
   ]
  },
  {
   "cell_type": "code",
   "execution_count": 76,
   "metadata": {},
   "outputs": [],
   "source": [
    "def get_title_and_content(url):\n",
    "    driver = selenium.webdriver.Chrome(driver_path)\n",
    "    driver.get(url)\n",
    "    try:\n",
    "        title = WebDriverWait(driver, 10).until(\n",
    "            EC.presence_of_element_located((By.CLASS_NAME, \"title\"))\n",
    "        ).text\n",
    "\n",
    "        # content_detail = WebDriverWait(driver, 10).until(\n",
    "        #     EC.presence_of_element_located((By.CLASS_NAME, \"detail\"))\n",
    "        # )\n",
    "\n",
    "        # title = content_detail.find_element_by_tag_name(\"h1\").text\n",
    "\n",
    "        print(\"Dapet title\", title)\n",
    "    except:\n",
    "        title = \"\"\n",
    "    try:\n",
    "        content = WebDriverWait(driver, 10).until(\n",
    "            EC.presence_of_element_located((By.CLASS_NAME, \"detail_text\"))\n",
    "        ).text\n",
    "    except:\n",
    "        content = \"\"\n",
    "    driver.quit()\n",
    "    return title, content"
   ]
  },
  {
   "cell_type": "code",
   "execution_count": 77,
   "metadata": {},
   "outputs": [
    {
     "name": "stdout",
     "output_type": "stream",
     "text": [
      "Dapet title \n"
     ]
    },
    {
     "data": {
      "text/plain": [
       "('',\n",
       " 'Jakarta, CNN Indonesia -- Partai Gerindra membela salah satu kadernya Desmond Junaidi Mahesa usai digeruduk kader PDI Perjuangan di Purworejo.\\nDesmond sebelumnya menyentil permintaan PDIP agar negara meminta maaf kepada Presiden pertama RI Soekarno buntut TAP MPRS Nomor 33 Tahun 1967 tentang Partai Komunis Indonesia (PKI).\\n\"Memang kadang Pak Desmond bicara keras, tapi hatinya baik. Banyak sahabat beliau dari kalangan Soekarnois juga sejak zaman aktivis dulu,\" papar Wakil Ketua Umum Partai Gerindra Habiburokhman saat dihubungi, Sabtu (12/11).\\nKendati demikian, Habib mengatakan wajar apabila ada kesalahpahaman dalam berpolitik. Ia pun meminta agar permasalahan ini tak perlu diperpanjang lagi.\\n\"Pak Desmond sudah minta maaf, kami juga selaku rekan beliau meminta maaf kalau ada pihak yang tidak berkenan,\" kata \\nLihat Juga :\\nGaduh Desmond vs PDIP Berujung Minta Maaf\\nKetua Harian DPP Gerindra Sufmi Dasco Ahmad juga sudah angkat suara perihal ini. Ia mengatakan fraksi Gerindra di DPR akan membahas masalah Desmond dengan PDIP buntut pernyataannya tentang Soekarno.\\n\"Iya kita monitor itu dan kami akan bicarakan di internal fraksi mengenai hal tersebut,\" jelas Dasco.\\nSebelumnya, sejumlah kader dan simpatisan PDIP menggeruduk Desmon saat makan siang di sela kunjungan kerja bersama rombongan kolega parlemen di Purworejo, Jawa Tengah, Kamis (10/11).\\nHal ini imbas pernyataan Desmond bahwa permintaan PDIP agar negara meminta maaf kepada Presiden pertama RI Sukarno buntut pencabutan TAP MPRS Nomor 33 Tahun 1967 mengada-ada, dan muncul atas kemauan Ketua Umum PDIP Megawati Soekarnoputri.\\nUsai digeruduk, Desmond pun menyampaikan permintaan maaf atas pernyataan dia yang menyentil PDIP dan Megawati Soekarnoputri terkait Presiden pertama RI Sukarno.\\n\"Disuruh minta maaf, ya saya minta maaf karena kalimat itu juga. Menurut saya kalimat itu juga tidak layak,\" kata Desmond.\\nMenukil laman MPR, melalui TAP MPR No I Tahun 2003 tentang Peninjauan Kembali Materi dan Status Hukum TAP MPRS/MPR sejak Tahun 1960-2002, TAP MPRS No 33 Tahun 1967 dinyatakan tidak berlaku lagi.\\nPada saat TAP MPR 1/2003 itu ditetapkan, Indonesia sedang dipimpin Presiden RI Megawati Soekarnoputri. Isi Tap MPRS Nomor XXXIII/MPRS/1967 adalah pencabutan kekuasaan presiden dari Sukarno. Peraturan itu menyinggung keterlibatan Sukarno dalam peristiwa G30S.\\nBagian pertimbangan Tap MPRS itu menyebut Sukarno membuat keputusan yang menguntungkan gerakan G30S. Selain itu, Sukarno disebut melindungi para tokoh PKI.\\n\"Bahwa ada petunjuk-petunjuk, yang Presiden Sukarno telah melakukan kebijaksanaan yang secara tidak langsung menguntungkan G-30-S/PKI dan melindungi tokoh-tokoh G-30-S/PKI,\" dikutip dari poin ketiga pertimbangan Tap MPRS itu.\\nLihat Juga :\\nPDIP Minta Gerindra Tindak Tegas Desmond Buntut Sentil Sukarno\\n  (dmi/DAL)\\n\\n\\nSaksikan Video di Bawah Ini:\\nVIDEO: Desmond Digeruduk Kader PDIP saat Makan Siang di Purworejo')"
      ]
     },
     "execution_count": 77,
     "metadata": {},
     "output_type": "execute_result"
    }
   ],
   "source": [
    "get_title_and_content(url_data[0][\"url\"])"
   ]
  },
  {
   "cell_type": "code",
   "execution_count": null,
   "metadata": {},
   "outputs": [],
   "source": []
  }
 ],
 "metadata": {
  "kernelspec": {
   "display_name": "Python 3.9.7 ('base')",
   "language": "python",
   "name": "python3"
  },
  "language_info": {
   "codemirror_mode": {
    "name": "ipython",
    "version": 3
   },
   "file_extension": ".py",
   "mimetype": "text/x-python",
   "name": "python",
   "nbconvert_exporter": "python",
   "pygments_lexer": "ipython3",
   "version": "3.9.7"
  },
  "orig_nbformat": 4,
  "vscode": {
   "interpreter": {
    "hash": "f5045f1ed516028e6ba3c78ae58e34f2955ee8afe7e35fc1835a968676e80520"
   }
  }
 },
 "nbformat": 4,
 "nbformat_minor": 2
}
