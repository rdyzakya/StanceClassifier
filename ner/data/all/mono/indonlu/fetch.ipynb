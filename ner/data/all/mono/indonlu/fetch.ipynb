{
 "cells": [
  {
   "cell_type": "code",
   "execution_count": 2,
   "metadata": {},
   "outputs": [],
   "source": [
    "import pandas as pd\n",
    "import requests"
   ]
  },
  {
   "cell_type": "code",
   "execution_count": 3,
   "metadata": {},
   "outputs": [],
   "source": [
    "train_prosa_url = \"https://raw.githubusercontent.com/IndoNLP/indonlu/master/dataset/nerp_ner-prosa/train_preprocess.txt\"\n",
    "val_prosa_url = \"https://raw.githubusercontent.com/IndoNLP/indonlu/master/dataset/nerp_ner-prosa/valid_preprocess.txt\"\n",
    "test_prosa_utl = \"https://raw.githubusercontent.com/IndoNLP/indonlu/master/dataset/nerp_ner-prosa/test_preprocess.txt\"\n",
    "\n",
    "train_nergrit_url = \"https://raw.githubusercontent.com/IndoNLP/indonlu/master/dataset/nergrit_ner-grit/train_preprocess.txt\"\n",
    "val_nergrit_url = \"https://raw.githubusercontent.com/IndoNLP/indonlu/master/dataset/nergrit_ner-grit/valid_preprocess.txt\"\n",
    "test_nergrit_utl = \"https://raw.githubusercontent.com/IndoNLP/indonlu/master/dataset/nergrit_ner-grit/test_preprocess.txt\""
   ]
  },
  {
   "cell_type": "code",
   "execution_count": 4,
   "metadata": {},
   "outputs": [],
   "source": [
    "train_prosa = requests.get(train_prosa_url).text\n",
    "val_prosa = requests.get(val_prosa_url).text\n",
    "test_prosa = requests.get(test_prosa_utl).text\n",
    "\n",
    "train_nergrit = requests.get(train_nergrit_url).text\n",
    "val_nergrit = requests.get(val_nergrit_url).text\n",
    "test_nergrit = requests.get(test_nergrit_utl).text"
   ]
  },
  {
   "cell_type": "code",
   "execution_count": 5,
   "metadata": {},
   "outputs": [],
   "source": [
    "train_prosa = train_prosa.strip().split(\"\\n\\n\")\n",
    "val_prosa = val_prosa.strip().split(\"\\n\\n\")\n",
    "test_prosa = test_prosa.strip().split(\"\\n\\n\")\n",
    "\n",
    "train_nergrit = train_nergrit.strip().split(\"\\n\\n\")\n",
    "val_nergrit = val_nergrit.strip().split(\"\\n\\n\")\n",
    "test_nergrit = test_nergrit.strip().split(\"\\n\\n\")"
   ]
  },
  {
   "cell_type": "code",
   "execution_count": 6,
   "metadata": {},
   "outputs": [],
   "source": [
    "train_prosa = [[el.split('\\t') for el in sen.splitlines()] for sen in train_prosa]\n",
    "val_prosa = [[el.split('\\t') for el in sen.splitlines()] for sen in val_prosa]\n",
    "test_prosa = [[el.split('\\t') for el in sen.splitlines()] for sen in test_prosa]\n",
    "\n",
    "train_nergrit = [[el.split('\\t') for el in sen.splitlines()] for sen in train_nergrit]\n",
    "val_nergrit = [[el.split('\\t') for el in sen.splitlines()] for sen in val_nergrit]\n",
    "test_nergrit = [[el.split('\\t') for el in sen.splitlines()] for sen in test_nergrit]"
   ]
  },
  {
   "cell_type": "code",
   "execution_count": 7,
   "metadata": {},
   "outputs": [],
   "source": [
    "combine = train_prosa + val_prosa + test_prosa + train_nergrit + val_nergrit + test_nergrit"
   ]
  },
  {
   "cell_type": "code",
   "execution_count": 8,
   "metadata": {},
   "outputs": [],
   "source": [
    "from nlp_id.tokenizer import Tokenizer\n",
    "tokenizer = Tokenizer()\n",
    "\n",
    "# new_combine = []\n",
    "# for sen in combine:\n",
    "#     new_sen = []\n",
    "#     for word,tag in sen:\n",
    "#         tokenized_word = tokenizer.tokenize(word)\n",
    "#         for token in tokenized_word:\n",
    "#             new_sen.append([token,tag])\n",
    "#     new_combine.append(new_sen)"
   ]
  },
  {
   "cell_type": "code",
   "execution_count": 9,
   "metadata": {},
   "outputs": [],
   "source": [
    "save_path = \"./interim/data.txt\"\n",
    "\n",
    "with open(save_path, \"w\") as f:\n",
    "    for sen in combine:\n",
    "        for word, tag in sen:\n",
    "            # escap unicode\n",
    "            word = word.encode(\"unicode_escape\").decode(\"utf-8\")\n",
    "            tag = tag.encode(\"unicode_escape\").decode(\"utf-8\")\n",
    "            f.write(f\"{word}\\t{tag}\\n\")\n",
    "        f.write(\"\\n\")"
   ]
  },
  {
   "cell_type": "code",
   "execution_count": 12,
   "metadata": {},
   "outputs": [],
   "source": [
    "labels = set()\n",
    "for sen in combine:\n",
    "    for word, tag in sen:\n",
    "        labels.add(tag)"
   ]
  },
  {
   "cell_type": "code",
   "execution_count": 13,
   "metadata": {},
   "outputs": [],
   "source": [
    "labels = sorted(list(labels))"
   ]
  },
  {
   "cell_type": "code",
   "execution_count": 14,
   "metadata": {},
   "outputs": [],
   "source": [
    "# write labels.txt\n",
    "with open(\"./interim/labels.txt\", \"w\") as f:\n",
    "    for label in labels:\n",
    "        f.write(f\"{label}\\n\")"
   ]
  },
  {
   "cell_type": "code",
   "execution_count": null,
   "metadata": {},
   "outputs": [],
   "source": []
  }
 ],
 "metadata": {
  "kernelspec": {
   "display_name": "Python 3.9.7 ('base')",
   "language": "python",
   "name": "python3"
  },
  "language_info": {
   "codemirror_mode": {
    "name": "ipython",
    "version": 3
   },
   "file_extension": ".py",
   "mimetype": "text/x-python",
   "name": "python",
   "nbconvert_exporter": "python",
   "pygments_lexer": "ipython3",
   "version": "3.9.7"
  },
  "orig_nbformat": 4,
  "vscode": {
   "interpreter": {
    "hash": "f5045f1ed516028e6ba3c78ae58e34f2955ee8afe7e35fc1835a968676e80520"
   }
  }
 },
 "nbformat": 4,
 "nbformat_minor": 2
}
