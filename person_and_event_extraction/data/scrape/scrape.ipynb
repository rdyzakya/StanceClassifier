{
 "cells": [
  {
   "cell_type": "code",
   "execution_count": 10,
   "metadata": {},
   "outputs": [
    {
     "name": "stdout",
     "output_type": "stream",
     "text": [
      "Sahut-sahutan Hasto dan Projo soal Manuver Politik Relawan Nasional • 23 menit yang lalu\n",
      "Warga Purwosari Dilibatkan dalam Rencana Pernikahan Kaesang-Erina Nasional • 1 jam yang lalu\n",
      "PKB Anggap Jokowi Belum Full Beri Dukungan ke Capres Tertentu Nasional • 7 jam yang lalu\n",
      "Nelayan Pantai Selatan Deklarasi Gibran Jadi Cagub Jateng 2024 Nasional • 8 jam yang lalu\n",
      " 25:53\n",
      "VIDEO: Surya Paloh, Nasdem & Jokowi, Pecah Kongsi? TV • 11 jam yang lalu\n",
      " 02:13\n",
      "VIDEO: Surya Paloh Respons Isu Keretakan Dengan Jokowi TV • 15 jam yang lalu\n",
      "Jalan Rumah Calon Istri Kaesang Diaspal, Warga Cemas Kendaraan Ngebut Nasional • 17 jam yang lalu\n",
      "Surya Paloh soal Nasib NasDem di Koalisi Pemerintah: Bola di Jokowi Nasional • 17 jam yang lalu\n",
      "Musra Relawan Jokowi Masih Dihuni Prabowo, Ganjar hingga Sandiaga Nasional • 18 jam yang lalu\n",
      "Projo Sentil Hasto PDIP soal Relawan Berubah: Kita Ikut Arah Jokowi Nasional • 18 jam yang lalu\n"
     ]
    }
   ],
   "source": [
    "import selenium\n",
    "from selenium.webdriver.common.keys import Keys\n",
    "import time\n",
    "from selenium.webdriver.common.by import By\n",
    "from selenium.webdriver.support.wait import WebDriverWait\n",
    "from selenium.webdriver.support import expected_conditions as EC\n",
    "\n",
    "driver_path =\"D:\\\\chromedriver_win32\\\\chromedriver.exe\"\n",
    "\n",
    "driver = selenium.webdriver.Chrome(driver_path)\n",
    "\n",
    "web_url = \"https://www.cnnindonesia.com/nasional/politik\"\n",
    "\n",
    "driver.get(web_url)\n",
    "\n",
    "search = driver.find_element_by_name(\"query\")\n",
    "search.send_keys(\"jokowi\")\n",
    "search.send_keys(Keys.RETURN)\n",
    "\n",
    "# print(driver.page_source)\n",
    "\n",
    "try:\n",
    "    list_of_news = WebDriverWait(driver, 10).until(\n",
    "        EC.presence_of_element_located((By.CLASS_NAME, \"media_rows\"))\n",
    "    )\n",
    "    \n",
    "    \n",
    "    article = list_of_news.find_elements_by_tag_name(\"article\")\n",
    "    for a in article:\n",
    "        print(a.text)\n",
    "finally:\n",
    "    driver.quit()"
   ]
  },
  {
   "cell_type": "code",
   "execution_count": null,
   "metadata": {},
   "outputs": [],
   "source": []
  }
 ],
 "metadata": {
  "kernelspec": {
   "display_name": "Python 3.9.7 ('base')",
   "language": "python",
   "name": "python3"
  },
  "language_info": {
   "codemirror_mode": {
    "name": "ipython",
    "version": 3
   },
   "file_extension": ".py",
   "mimetype": "text/x-python",
   "name": "python",
   "nbconvert_exporter": "python",
   "pygments_lexer": "ipython3",
   "version": "3.9.7"
  },
  "orig_nbformat": 4,
  "vscode": {
   "interpreter": {
    "hash": "f5045f1ed516028e6ba3c78ae58e34f2955ee8afe7e35fc1835a968676e80520"
   }
  }
 },
 "nbformat": 4,
 "nbformat_minor": 2
}
